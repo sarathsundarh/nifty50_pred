{
 "cells": [
  {
   "cell_type": "code",
   "execution_count": 80,
   "id": "f91eb4e9",
   "metadata": {},
   "outputs": [],
   "source": [
    "#yahoo finance as data source\n",
    "#pip install yfinance\n",
    "import yfinance as yf"
   ]
  },
  {
   "cell_type": "code",
   "execution_count": 81,
   "id": "ee00f18c",
   "metadata": {},
   "outputs": [],
   "source": [
    "#See the yahoo finance ticker for your stock symbol\n",
    "stock_symbol = '^NSEI'"
   ]
  },
  {
   "cell_type": "code",
   "execution_count": 82,
   "id": "d365868a",
   "metadata": {},
   "outputs": [
    {
     "name": "stdout",
     "output_type": "stream",
     "text": [
      "[*********************100%***********************]  1 of 1 completed\n"
     ]
    }
   ],
   "source": [
    "#last 5 years data with interval of 1 day\n",
    "data = yf.download(tickers=stock_symbol,period='7d',interval='1m')"
   ]
  },
  {
   "cell_type": "code",
   "execution_count": 83,
   "id": "9f82e205",
   "metadata": {},
   "outputs": [
    {
     "data": {
      "text/plain": [
       "pandas.core.frame.DataFrame"
      ]
     },
     "execution_count": 83,
     "metadata": {},
     "output_type": "execute_result"
    }
   ],
   "source": [
    "type(data)"
   ]
  },
  {
   "cell_type": "code",
   "execution_count": 84,
   "id": "dbbe3e6b",
   "metadata": {},
   "outputs": [
    {
     "data": {
      "text/html": [
       "<div>\n",
       "<style scoped>\n",
       "    .dataframe tbody tr th:only-of-type {\n",
       "        vertical-align: middle;\n",
       "    }\n",
       "\n",
       "    .dataframe tbody tr th {\n",
       "        vertical-align: top;\n",
       "    }\n",
       "\n",
       "    .dataframe thead th {\n",
       "        text-align: right;\n",
       "    }\n",
       "</style>\n",
       "<table border=\"1\" class=\"dataframe\">\n",
       "  <thead>\n",
       "    <tr style=\"text-align: right;\">\n",
       "      <th></th>\n",
       "      <th>Open</th>\n",
       "      <th>High</th>\n",
       "      <th>Low</th>\n",
       "      <th>Close</th>\n",
       "      <th>Adj Close</th>\n",
       "      <th>Volume</th>\n",
       "    </tr>\n",
       "    <tr>\n",
       "      <th>Datetime</th>\n",
       "      <th></th>\n",
       "      <th></th>\n",
       "      <th></th>\n",
       "      <th></th>\n",
       "      <th></th>\n",
       "      <th></th>\n",
       "    </tr>\n",
       "  </thead>\n",
       "  <tbody>\n",
       "    <tr>\n",
       "      <th>2022-11-02 09:15:00</th>\n",
       "      <td>18177.900391</td>\n",
       "      <td>18177.900391</td>\n",
       "      <td>18129.800781</td>\n",
       "      <td>18144.199219</td>\n",
       "      <td>18144.199219</td>\n",
       "      <td>0</td>\n",
       "    </tr>\n",
       "    <tr>\n",
       "      <th>2022-11-02 09:16:00</th>\n",
       "      <td>18144.349609</td>\n",
       "      <td>18144.349609</td>\n",
       "      <td>18133.599609</td>\n",
       "      <td>18138.650391</td>\n",
       "      <td>18138.650391</td>\n",
       "      <td>0</td>\n",
       "    </tr>\n",
       "    <tr>\n",
       "      <th>2022-11-02 09:17:00</th>\n",
       "      <td>18139.099609</td>\n",
       "      <td>18139.099609</td>\n",
       "      <td>18118.800781</td>\n",
       "      <td>18124.250000</td>\n",
       "      <td>18124.250000</td>\n",
       "      <td>0</td>\n",
       "    </tr>\n",
       "    <tr>\n",
       "      <th>2022-11-02 09:18:00</th>\n",
       "      <td>18121.900391</td>\n",
       "      <td>18122.400391</td>\n",
       "      <td>18110.699219</td>\n",
       "      <td>18122.150391</td>\n",
       "      <td>18122.150391</td>\n",
       "      <td>0</td>\n",
       "    </tr>\n",
       "    <tr>\n",
       "      <th>2022-11-02 09:19:00</th>\n",
       "      <td>18121.599609</td>\n",
       "      <td>18131.250000</td>\n",
       "      <td>18120.699219</td>\n",
       "      <td>18128.849609</td>\n",
       "      <td>18128.849609</td>\n",
       "      <td>0</td>\n",
       "    </tr>\n",
       "  </tbody>\n",
       "</table>\n",
       "</div>"
      ],
      "text/plain": [
       "                             Open          High           Low         Close  \\\n",
       "Datetime                                                                      \n",
       "2022-11-02 09:15:00  18177.900391  18177.900391  18129.800781  18144.199219   \n",
       "2022-11-02 09:16:00  18144.349609  18144.349609  18133.599609  18138.650391   \n",
       "2022-11-02 09:17:00  18139.099609  18139.099609  18118.800781  18124.250000   \n",
       "2022-11-02 09:18:00  18121.900391  18122.400391  18110.699219  18122.150391   \n",
       "2022-11-02 09:19:00  18121.599609  18131.250000  18120.699219  18128.849609   \n",
       "\n",
       "                        Adj Close  Volume  \n",
       "Datetime                                   \n",
       "2022-11-02 09:15:00  18144.199219       0  \n",
       "2022-11-02 09:16:00  18138.650391       0  \n",
       "2022-11-02 09:17:00  18124.250000       0  \n",
       "2022-11-02 09:18:00  18122.150391       0  \n",
       "2022-11-02 09:19:00  18128.849609       0  "
      ]
     },
     "execution_count": 84,
     "metadata": {},
     "output_type": "execute_result"
    }
   ],
   "source": [
    "data.head()"
   ]
  },
  {
   "cell_type": "code",
   "execution_count": 85,
   "id": "9d445949",
   "metadata": {},
   "outputs": [
    {
     "data": {
      "text/plain": [
       "2623"
      ]
     },
     "execution_count": 85,
     "metadata": {},
     "output_type": "execute_result"
    }
   ],
   "source": [
    "len(data)"
   ]
  },
  {
   "cell_type": "code",
   "execution_count": 86,
   "id": "bf283ad5",
   "metadata": {},
   "outputs": [
    {
     "data": {
      "text/html": [
       "<div>\n",
       "<style scoped>\n",
       "    .dataframe tbody tr th:only-of-type {\n",
       "        vertical-align: middle;\n",
       "    }\n",
       "\n",
       "    .dataframe tbody tr th {\n",
       "        vertical-align: top;\n",
       "    }\n",
       "\n",
       "    .dataframe thead th {\n",
       "        text-align: right;\n",
       "    }\n",
       "</style>\n",
       "<table border=\"1\" class=\"dataframe\">\n",
       "  <thead>\n",
       "    <tr style=\"text-align: right;\">\n",
       "      <th></th>\n",
       "      <th>Open</th>\n",
       "      <th>High</th>\n",
       "      <th>Low</th>\n",
       "      <th>Close</th>\n",
       "      <th>Adj Close</th>\n",
       "      <th>Volume</th>\n",
       "    </tr>\n",
       "    <tr>\n",
       "      <th>Datetime</th>\n",
       "      <th></th>\n",
       "      <th></th>\n",
       "      <th></th>\n",
       "      <th></th>\n",
       "      <th></th>\n",
       "      <th></th>\n",
       "    </tr>\n",
       "  </thead>\n",
       "  <tbody>\n",
       "    <tr>\n",
       "      <th>2022-11-11 15:26:00</th>\n",
       "      <td>18351.849609</td>\n",
       "      <td>18357.500000</td>\n",
       "      <td>18351.699219</td>\n",
       "      <td>18357.000000</td>\n",
       "      <td>18357.000000</td>\n",
       "      <td>0</td>\n",
       "    </tr>\n",
       "    <tr>\n",
       "      <th>2022-11-11 15:27:00</th>\n",
       "      <td>18357.849609</td>\n",
       "      <td>18359.050781</td>\n",
       "      <td>18355.000000</td>\n",
       "      <td>18356.099609</td>\n",
       "      <td>18356.099609</td>\n",
       "      <td>0</td>\n",
       "    </tr>\n",
       "    <tr>\n",
       "      <th>2022-11-11 15:28:00</th>\n",
       "      <td>18356.349609</td>\n",
       "      <td>18358.449219</td>\n",
       "      <td>18353.300781</td>\n",
       "      <td>18354.099609</td>\n",
       "      <td>18354.099609</td>\n",
       "      <td>0</td>\n",
       "    </tr>\n",
       "    <tr>\n",
       "      <th>2022-11-11 15:29:00</th>\n",
       "      <td>18353.949219</td>\n",
       "      <td>18360.000000</td>\n",
       "      <td>18351.050781</td>\n",
       "      <td>18355.300781</td>\n",
       "      <td>18355.300781</td>\n",
       "      <td>0</td>\n",
       "    </tr>\n",
       "    <tr>\n",
       "      <th>2022-11-11 15:30:00</th>\n",
       "      <td>18349.699219</td>\n",
       "      <td>18349.699219</td>\n",
       "      <td>18349.699219</td>\n",
       "      <td>18349.699219</td>\n",
       "      <td>18349.699219</td>\n",
       "      <td>0</td>\n",
       "    </tr>\n",
       "  </tbody>\n",
       "</table>\n",
       "</div>"
      ],
      "text/plain": [
       "                             Open          High           Low         Close  \\\n",
       "Datetime                                                                      \n",
       "2022-11-11 15:26:00  18351.849609  18357.500000  18351.699219  18357.000000   \n",
       "2022-11-11 15:27:00  18357.849609  18359.050781  18355.000000  18356.099609   \n",
       "2022-11-11 15:28:00  18356.349609  18358.449219  18353.300781  18354.099609   \n",
       "2022-11-11 15:29:00  18353.949219  18360.000000  18351.050781  18355.300781   \n",
       "2022-11-11 15:30:00  18349.699219  18349.699219  18349.699219  18349.699219   \n",
       "\n",
       "                        Adj Close  Volume  \n",
       "Datetime                                   \n",
       "2022-11-11 15:26:00  18357.000000       0  \n",
       "2022-11-11 15:27:00  18356.099609       0  \n",
       "2022-11-11 15:28:00  18354.099609       0  \n",
       "2022-11-11 15:29:00  18355.300781       0  \n",
       "2022-11-11 15:30:00  18349.699219       0  "
      ]
     },
     "execution_count": 86,
     "metadata": {},
     "output_type": "execute_result"
    }
   ],
   "source": [
    "data.tail()"
   ]
  },
  {
   "cell_type": "code",
   "execution_count": 87,
   "id": "6292e20a",
   "metadata": {},
   "outputs": [],
   "source": [
    "opn = data[['Open']]"
   ]
  },
  {
   "cell_type": "code",
   "execution_count": 88,
   "id": "21e132d8",
   "metadata": {},
   "outputs": [
    {
     "data": {
      "text/plain": [
       "<AxesSubplot:xlabel='Datetime'>"
      ]
     },
     "execution_count": 88,
     "metadata": {},
     "output_type": "execute_result"
    },
    {
     "data": {
      "image/png": "[encoded data removed]",
      "text/plain": [
       "<Figure size 432x288 with 1 Axes>"
      ]
     },
     "metadata": {
      "needs_background": "light"
     },
     "output_type": "display_data"
    }
   ],
   "source": [
    "opn.plot()"
   ]
  },
  {
   "cell_type": "code",
   "execution_count": 89,
   "id": "c5194440",
   "metadata": {},
   "outputs": [],
   "source": [
    "import matplotlib.pyplot as plt"
   ]
  },
  {
   "cell_type": "code",
   "execution_count": 90,
   "id": "8038cb6a",
   "metadata": {},
   "outputs": [],
   "source": [
    "ds = opn.values"
   ]
  },
  {
   "cell_type": "code",
   "execution_count": 91,
   "id": "69b08672",
   "metadata": {},
   "outputs": [
    {
     "data": {
      "text/plain": [
       "array([[18177.90039062],\n",
       "       [18144.34960938],\n",
       "       [18139.09960938],\n",
       "       ...,\n",
       "       [18356.34960938],\n",
       "       [18353.94921875],\n",
       "       [18349.69921875]])"
      ]
     },
     "execution_count": 91,
     "metadata": {},
     "output_type": "execute_result"
    }
   ],
   "source": [
    "ds"
   ]
  },
  {
   "cell_type": "code",
   "execution_count": 92,
   "id": "af022e3c",
   "metadata": {},
   "outputs": [
    {
     "data": {
      "text/plain": [
       "[<matplotlib.lines.Line2D at 0x24f5633dfa0>]"
      ]
     },
     "execution_count": 92,
     "metadata": {},
     "output_type": "execute_result"
    },
    {
     "data": {
      "image/png": "[encoded data removed]",
      "text/plain": [
       "<Figure size 432x288 with 1 Axes>"
      ]
     },
     "metadata": {
      "needs_background": "light"
     },
     "output_type": "display_data"
    }
   ],
   "source": [
    "plt.plot(ds)"
   ]
  },
  {
   "cell_type": "code",
   "execution_count": 93,
   "id": "0e73b789",
   "metadata": {},
   "outputs": [],
   "source": [
    "import numpy as np"
   ]
  },
  {
   "cell_type": "code",
   "execution_count": 94,
   "id": "0e6c1c22",
   "metadata": {},
   "outputs": [],
   "source": [
    "from sklearn.preprocessing import MinMaxScaler"
   ]
  },
  {
   "cell_type": "code",
   "execution_count": 95,
   "id": "cf6a3e1b",
   "metadata": {},
   "outputs": [],
   "source": [
    "#Using MinMaxScaler for normalizing data between 0 & 1\n",
    "normalizer = MinMaxScaler(feature_range=(0,1))\n",
    "ds_scaled = normalizer.fit_transform(np.array(ds).reshape(-1,1))"
   ]
  },
  {
   "cell_type": "code",
   "execution_count": 96,
   "id": "7dbea1d5",
   "metadata": {},
   "outputs": [
    {
     "data": {
      "text/plain": [
       "(2623, 2623)"
      ]
     },
     "execution_count": 96,
     "metadata": {},
     "output_type": "execute_result"
    }
   ],
   "source": [
    "len(ds_scaled), len(ds)"
   ]
  },
  {
   "cell_type": "code",
   "execution_count": 97,
   "id": "a20c5654",
   "metadata": {},
   "outputs": [],
   "source": [
    "#Defining test and train data sizes\n",
    "train_size = int(len(ds_scaled)*0.70)\n",
    "test_size = len(ds_scaled) - train_size"
   ]
  },
  {
   "cell_type": "code",
   "execution_count": 98,
   "id": "b964aa4e",
   "metadata": {},
   "outputs": [
    {
     "data": {
      "text/plain": [
       "(1836, 787)"
      ]
     },
     "execution_count": 98,
     "metadata": {},
     "output_type": "execute_result"
    }
   ],
   "source": [
    "train_size,test_size"
   ]
  },
  {
   "cell_type": "code",
   "execution_count": 99,
   "id": "25ca615e",
   "metadata": {},
   "outputs": [],
   "source": [
    "#Splitting data between train and test\n",
    "ds_train, ds_test = ds_scaled[0:train_size,:], ds_scaled[train_size:len(ds_scaled),:1]"
   ]
  },
  {
   "cell_type": "code",
   "execution_count": 100,
   "id": "95913f28",
   "metadata": {},
   "outputs": [
    {
     "data": {
      "text/plain": [
       "(1836, 787)"
      ]
     },
     "execution_count": 100,
     "metadata": {},
     "output_type": "execute_result"
    }
   ],
   "source": [
    "len(ds_train),len(ds_test)"
   ]
  },
  {
   "cell_type": "code",
   "execution_count": 101,
   "id": "5dd0b45e",
   "metadata": {},
   "outputs": [],
   "source": [
    "#creating dataset in time series for LSTM model \n",
    "#X[100,120,140,160,180] : Y[200]\n",
    "def create_ds(dataset,step):\n",
    "    Xtrain, Ytrain = [], []\n",
    "    for i in range(len(dataset)-step-1):\n",
    "        a = dataset[i:(i+step), 0]\n",
    "        Xtrain.append(a)\n",
    "        Ytrain.append(dataset[i + step, 0])\n",
    "    return np.array(Xtrain), np.array(Ytrain)"
   ]
  },
  {
   "cell_type": "code",
   "execution_count": 102,
   "id": "d28b7d1d",
   "metadata": {},
   "outputs": [],
   "source": [
    "#Taking 100 days price as one record for training\n",
    "time_stamp = 100\n",
    "X_train, y_train = create_ds(ds_train,time_stamp)\n",
    "X_test, y_test = create_ds(ds_test,time_stamp)"
   ]
  },
  {
   "cell_type": "code",
   "execution_count": 103,
   "id": "03ce9096",
   "metadata": {},
   "outputs": [
    {
     "data": {
      "text/plain": [
       "((1735, 100), (1735,))"
      ]
     },
     "execution_count": 103,
     "metadata": {},
     "output_type": "execute_result"
    }
   ],
   "source": [
    "X_train.shape,y_train.shape"
   ]
  },
  {
   "cell_type": "code",
   "execution_count": 104,
   "id": "84acdd72",
   "metadata": {},
   "outputs": [
    {
     "data": {
      "text/plain": [
       "((686, 100), (686,))"
      ]
     },
     "execution_count": 104,
     "metadata": {},
     "output_type": "execute_result"
    }
   ],
   "source": [
    "X_test.shape, y_test.shape"
   ]
  },
  {
   "cell_type": "code",
   "execution_count": 105,
   "id": "c657d193",
   "metadata": {},
   "outputs": [],
   "source": [
    "#Reshaping data to fit into LSTM model\n",
    "X_train = X_train.reshape(X_train.shape[0],X_train.shape[1] , 1)\n",
    "X_test = X_test.reshape(X_test.shape[0],X_test.shape[1] , 1)"
   ]
  },
  {
   "cell_type": "code",
   "execution_count": 106,
   "id": "82844671",
   "metadata": {},
   "outputs": [],
   "source": [
    "from keras.models import Sequential\n",
    "from keras.layers import Dense, LSTM"
   ]
  },
  {
   "cell_type": "code",
   "execution_count": 107,
   "id": "b5250913",
   "metadata": {},
   "outputs": [
    {
     "name": "stdout",
     "output_type": "stream",
     "text": [
      "Model: \"sequential_1\"\n",
      "_________________________________________________________________\n",
      "Layer (type)                 Output Shape              Param #   \n",
      "=================================================================\n",
      "lstm_3 (LSTM)                (None, 100, 50)           10400     \n",
      "_________________________________________________________________\n",
      "lstm_4 (LSTM)                (None, 100, 50)           20200     \n",
      "_________________________________________________________________\n",
      "lstm_5 (LSTM)                (None, 50)                20200     \n",
      "_________________________________________________________________\n",
      "dense_1 (Dense)              (None, 1)                 51        \n",
      "=================================================================\n",
      "Total params: 50,851\n",
      "Trainable params: 50,851\n",
      "Non-trainable params: 0\n",
      "_________________________________________________________________\n"
     ]
    }
   ],
   "source": [
    "#Creating LSTM model using keras\n",
    "model = Sequential()\n",
    "model.add(LSTM(units=50,return_sequences=True,input_shape=(X_train.shape[1],1)))\n",
    "model.add(LSTM(units=50,return_sequences=True))\n",
    "model.add(LSTM(units=50))\n",
    "model.add(Dense(units=1,activation='linear'))\n",
    "model.summary()"
   ]
  },
  {
   "cell_type": "code",
   "execution_count": 108,
   "id": "7e8ff062",
   "metadata": {},
   "outputs": [
    {
     "name": "stdout",
     "output_type": "stream",
     "text": [
      "Epoch 1/100\n",
      "28/28 [==============================] - 9s 137ms/step - loss: 0.0471 - val_loss: 0.0209\n",
      "Epoch 2/100\n",
      "28/28 [==============================] - 3s 95ms/step - loss: 0.0026 - val_loss: 0.0060\n",
      "Epoch 3/100\n",
      "28/28 [==============================] - 3s 96ms/step - loss: 0.0016 - val_loss: 0.0059\n",
      "Epoch 4/100\n",
      "28/28 [==============================] - 3s 98ms/step - loss: 0.0017 - val_loss: 0.0063\n",
      "Epoch 5/100\n",
      "28/28 [==============================] - 3s 97ms/step - loss: 0.0013 - val_loss: 0.0064\n",
      "Epoch 6/100\n",
      "28/28 [==============================] - 3s 95ms/step - loss: 0.0016 - val_loss: 0.0051\n",
      "Epoch 7/100\n",
      "28/28 [==============================] - 3s 95ms/step - loss: 0.0014 - val_loss: 0.0060\n",
      "Epoch 8/100\n",
      "28/28 [==============================] - 3s 95ms/step - loss: 0.0014 - val_loss: 0.0058\n",
      "Epoch 9/100\n",
      "28/28 [==============================] - 3s 95ms/step - loss: 0.0013 - val_loss: 0.0046\n",
      "Epoch 10/100\n",
      "28/28 [==============================] - 3s 96ms/step - loss: 0.0015 - val_loss: 0.0041\n",
      "Epoch 11/100\n",
      " 6/28 [=====>........................] - ETA: 1s - loss: 0.0013"
     ]
    },
    {
     "ename": "KeyboardInterrupt",
     "evalue": "",
     "output_type": "error",
     "traceback": [
      "\u001b[1;31m---------------------------------------------------------------------------\u001b[0m",
      "\u001b[1;31mKeyboardInterrupt\u001b[0m                         Traceback (most recent call last)",
      "\u001b[1;32mC:\\Users\\MYTHRE~1\\AppData\\Local\\Temp/ipykernel_8632/1362692237.py\u001b[0m in \u001b[0;36m<module>\u001b[1;34m\u001b[0m\n\u001b[0;32m      1\u001b[0m \u001b[1;31m#Training model with adam optimizer and mean squared error loss function\u001b[0m\u001b[1;33m\u001b[0m\u001b[1;33m\u001b[0m\u001b[1;33m\u001b[0m\u001b[0m\n\u001b[0;32m      2\u001b[0m \u001b[0mmodel\u001b[0m\u001b[1;33m.\u001b[0m\u001b[0mcompile\u001b[0m\u001b[1;33m(\u001b[0m\u001b[0mloss\u001b[0m\u001b[1;33m=\u001b[0m\u001b[1;34m'mean_squared_error'\u001b[0m\u001b[1;33m,\u001b[0m\u001b[0moptimizer\u001b[0m\u001b[1;33m=\u001b[0m\u001b[1;34m'adam'\u001b[0m\u001b[1;33m)\u001b[0m\u001b[1;33m\u001b[0m\u001b[1;33m\u001b[0m\u001b[0m\n\u001b[1;32m----> 3\u001b[1;33m \u001b[0mmodel\u001b[0m\u001b[1;33m.\u001b[0m\u001b[0mfit\u001b[0m\u001b[1;33m(\u001b[0m\u001b[0mX_train\u001b[0m\u001b[1;33m,\u001b[0m\u001b[0my_train\u001b[0m\u001b[1;33m,\u001b[0m\u001b[0mvalidation_data\u001b[0m\u001b[1;33m=\u001b[0m\u001b[1;33m(\u001b[0m\u001b[0mX_test\u001b[0m\u001b[1;33m,\u001b[0m\u001b[0my_test\u001b[0m\u001b[1;33m)\u001b[0m\u001b[1;33m,\u001b[0m\u001b[0mepochs\u001b[0m\u001b[1;33m=\u001b[0m\u001b[1;36m100\u001b[0m\u001b[1;33m,\u001b[0m\u001b[0mbatch_size\u001b[0m\u001b[1;33m=\u001b[0m\u001b[1;36m64\u001b[0m\u001b[1;33m)\u001b[0m\u001b[1;33m\u001b[0m\u001b[1;33m\u001b[0m\u001b[0m\n\u001b[0m",
      "\u001b[1;32mc:\\users\\mythreyapc\\appdata\\local\\programs\\python\\python38\\lib\\site-packages\\keras\\engine\\training.py\u001b[0m in \u001b[0;36mfit\u001b[1;34m(self, x, y, batch_size, epochs, verbose, callbacks, validation_split, validation_data, shuffle, class_weight, sample_weight, initial_epoch, steps_per_epoch, validation_steps, validation_batch_size, validation_freq, max_queue_size, workers, use_multiprocessing)\u001b[0m\n\u001b[0;32m   1156\u001b[0m                 _r=1):\n\u001b[0;32m   1157\u001b[0m               \u001b[0mcallbacks\u001b[0m\u001b[1;33m.\u001b[0m\u001b[0mon_train_batch_begin\u001b[0m\u001b[1;33m(\u001b[0m\u001b[0mstep\u001b[0m\u001b[1;33m)\u001b[0m\u001b[1;33m\u001b[0m\u001b[1;33m\u001b[0m\u001b[0m\n\u001b[1;32m-> 1158\u001b[1;33m               \u001b[0mtmp_logs\u001b[0m \u001b[1;33m=\u001b[0m \u001b[0mself\u001b[0m\u001b[1;33m.\u001b[0m\u001b[0mtrain_function\u001b[0m\u001b[1;33m(\u001b[0m\u001b[0miterator\u001b[0m\u001b[1;33m)\u001b[0m\u001b[1;33m\u001b[0m\u001b[1;33m\u001b[0m\u001b[0m\n\u001b[0m\u001b[0;32m   1159\u001b[0m               \u001b[1;32mif\u001b[0m \u001b[0mdata_handler\u001b[0m\u001b[1;33m.\u001b[0m\u001b[0mshould_sync\u001b[0m\u001b[1;33m:\u001b[0m\u001b[1;33m\u001b[0m\u001b[1;33m\u001b[0m\u001b[0m\n\u001b[0;32m   1160\u001b[0m                 \u001b[0mcontext\u001b[0m\u001b[1;33m.\u001b[0m\u001b[0masync_wait\u001b[0m\u001b[1;33m(\u001b[0m\u001b[1;33m)\u001b[0m\u001b[1;33m\u001b[0m\u001b[1;33m\u001b[0m\u001b[0m\n",
      "\u001b[1;32mc:\\users\\mythreyapc\\appdata\\local\\programs\\python\\python38\\lib\\site-packages\\tensorflow\\python\\eager\\def_function.py\u001b[0m in \u001b[0;36m__call__\u001b[1;34m(self, *args, **kwds)\u001b[0m\n\u001b[0;32m    887\u001b[0m \u001b[1;33m\u001b[0m\u001b[0m\n\u001b[0;32m    888\u001b[0m       \u001b[1;32mwith\u001b[0m \u001b[0mOptionalXlaContext\u001b[0m\u001b[1;33m(\u001b[0m\u001b[0mself\u001b[0m\u001b[1;33m.\u001b[0m\u001b[0m_jit_compile\u001b[0m\u001b[1;33m)\u001b[0m\u001b[1;33m:\u001b[0m\u001b[1;33m\u001b[0m\u001b[1;33m\u001b[0m\u001b[0m\n\u001b[1;32m--> 889\u001b[1;33m         \u001b[0mresult\u001b[0m \u001b[1;33m=\u001b[0m \u001b[0mself\u001b[0m\u001b[1;33m.\u001b[0m\u001b[0m_call\u001b[0m\u001b[1;33m(\u001b[0m\u001b[1;33m*\u001b[0m\u001b[0margs\u001b[0m\u001b[1;33m,\u001b[0m \u001b[1;33m**\u001b[0m\u001b[0mkwds\u001b[0m\u001b[1;33m)\u001b[0m\u001b[1;33m\u001b[0m\u001b[1;33m\u001b[0m\u001b[0m\n\u001b[0m\u001b[0;32m    890\u001b[0m \u001b[1;33m\u001b[0m\u001b[0m\n\u001b[0;32m    891\u001b[0m       \u001b[0mnew_tracing_count\u001b[0m \u001b[1;33m=\u001b[0m \u001b[0mself\u001b[0m\u001b[1;33m.\u001b[0m\u001b[0mexperimental_get_tracing_count\u001b[0m\u001b[1;33m(\u001b[0m\u001b[1;33m)\u001b[0m\u001b[1;33m\u001b[0m\u001b[1;33m\u001b[0m\u001b[0m\n",
      "\u001b[1;32mc:\\users\\mythreyapc\\appdata\\local\\programs\\python\\python38\\lib\\site-packages\\tensorflow\\python\\eager\\def_function.py\u001b[0m in \u001b[0;36m_call\u001b[1;34m(self, *args, **kwds)\u001b[0m\n\u001b[0;32m    915\u001b[0m       \u001b[1;31m# In this case we have created variables on the first call, so we run the\u001b[0m\u001b[1;33m\u001b[0m\u001b[1;33m\u001b[0m\u001b[1;33m\u001b[0m\u001b[0m\n\u001b[0;32m    916\u001b[0m       \u001b[1;31m# defunned version which is guaranteed to never create variables.\u001b[0m\u001b[1;33m\u001b[0m\u001b[1;33m\u001b[0m\u001b[1;33m\u001b[0m\u001b[0m\n\u001b[1;32m--> 917\u001b[1;33m       \u001b[1;32mreturn\u001b[0m \u001b[0mself\u001b[0m\u001b[1;33m.\u001b[0m\u001b[0m_stateless_fn\u001b[0m\u001b[1;33m(\u001b[0m\u001b[1;33m*\u001b[0m\u001b[0margs\u001b[0m\u001b[1;33m,\u001b[0m \u001b[1;33m**\u001b[0m\u001b[0mkwds\u001b[0m\u001b[1;33m)\u001b[0m  \u001b[1;31m# pylint: disable=not-callable\u001b[0m\u001b[1;33m\u001b[0m\u001b[1;33m\u001b[0m\u001b[0m\n\u001b[0m\u001b[0;32m    918\u001b[0m     \u001b[1;32melif\u001b[0m \u001b[0mself\u001b[0m\u001b[1;33m.\u001b[0m\u001b[0m_stateful_fn\u001b[0m \u001b[1;32mis\u001b[0m \u001b[1;32mnot\u001b[0m \u001b[1;32mNone\u001b[0m\u001b[1;33m:\u001b[0m\u001b[1;33m\u001b[0m\u001b[1;33m\u001b[0m\u001b[0m\n\u001b[0;32m    919\u001b[0m       \u001b[1;31m# Release the lock early so that multiple threads can perform the call\u001b[0m\u001b[1;33m\u001b[0m\u001b[1;33m\u001b[0m\u001b[1;33m\u001b[0m\u001b[0m\n",
      "\u001b[1;32mc:\\users\\mythreyapc\\appdata\\local\\programs\\python\\python38\\lib\\site-packages\\tensorflow\\python\\eager\\function.py\u001b[0m in \u001b[0;36m__call__\u001b[1;34m(self, *args, **kwargs)\u001b[0m\n\u001b[0;32m   3021\u001b[0m       (graph_function,\n\u001b[0;32m   3022\u001b[0m        filtered_flat_args) = self._maybe_define_function(args, kwargs)\n\u001b[1;32m-> 3023\u001b[1;33m     return graph_function._call_flat(\n\u001b[0m\u001b[0;32m   3024\u001b[0m         filtered_flat_args, captured_inputs=graph_function.captured_inputs)  # pylint: disable=protected-access\n\u001b[0;32m   3025\u001b[0m \u001b[1;33m\u001b[0m\u001b[0m\n",
      "\u001b[1;32mc:\\users\\mythreyapc\\appdata\\local\\programs\\python\\python38\\lib\\site-packages\\tensorflow\\python\\eager\\function.py\u001b[0m in \u001b[0;36m_call_flat\u001b[1;34m(self, args, captured_inputs, cancellation_manager)\u001b[0m\n\u001b[0;32m   1958\u001b[0m         and executing_eagerly):\n\u001b[0;32m   1959\u001b[0m       \u001b[1;31m# No tape is watching; skip to running the function.\u001b[0m\u001b[1;33m\u001b[0m\u001b[1;33m\u001b[0m\u001b[1;33m\u001b[0m\u001b[0m\n\u001b[1;32m-> 1960\u001b[1;33m       return self._build_call_outputs(self._inference_function.call(\n\u001b[0m\u001b[0;32m   1961\u001b[0m           ctx, args, cancellation_manager=cancellation_manager))\n\u001b[0;32m   1962\u001b[0m     forward_backward = self._select_forward_and_backward_functions(\n",
      "\u001b[1;32mc:\\users\\mythreyapc\\appdata\\local\\programs\\python\\python38\\lib\\site-packages\\tensorflow\\python\\eager\\function.py\u001b[0m in \u001b[0;36mcall\u001b[1;34m(self, ctx, args, cancellation_manager)\u001b[0m\n\u001b[0;32m    589\u001b[0m       \u001b[1;32mwith\u001b[0m \u001b[0m_InterpolateFunctionError\u001b[0m\u001b[1;33m(\u001b[0m\u001b[0mself\u001b[0m\u001b[1;33m)\u001b[0m\u001b[1;33m:\u001b[0m\u001b[1;33m\u001b[0m\u001b[1;33m\u001b[0m\u001b[0m\n\u001b[0;32m    590\u001b[0m         \u001b[1;32mif\u001b[0m \u001b[0mcancellation_manager\u001b[0m \u001b[1;32mis\u001b[0m \u001b[1;32mNone\u001b[0m\u001b[1;33m:\u001b[0m\u001b[1;33m\u001b[0m\u001b[1;33m\u001b[0m\u001b[0m\n\u001b[1;32m--> 591\u001b[1;33m           outputs = execute.execute(\n\u001b[0m\u001b[0;32m    592\u001b[0m               \u001b[0mstr\u001b[0m\u001b[1;33m(\u001b[0m\u001b[0mself\u001b[0m\u001b[1;33m.\u001b[0m\u001b[0msignature\u001b[0m\u001b[1;33m.\u001b[0m\u001b[0mname\u001b[0m\u001b[1;33m)\u001b[0m\u001b[1;33m,\u001b[0m\u001b[1;33m\u001b[0m\u001b[1;33m\u001b[0m\u001b[0m\n\u001b[0;32m    593\u001b[0m               \u001b[0mnum_outputs\u001b[0m\u001b[1;33m=\u001b[0m\u001b[0mself\u001b[0m\u001b[1;33m.\u001b[0m\u001b[0m_num_outputs\u001b[0m\u001b[1;33m,\u001b[0m\u001b[1;33m\u001b[0m\u001b[1;33m\u001b[0m\u001b[0m\n",
      "\u001b[1;32mc:\\users\\mythreyapc\\appdata\\local\\programs\\python\\python38\\lib\\site-packages\\tensorflow\\python\\eager\\execute.py\u001b[0m in \u001b[0;36mquick_execute\u001b[1;34m(op_name, num_outputs, inputs, attrs, ctx, name)\u001b[0m\n\u001b[0;32m     57\u001b[0m   \u001b[1;32mtry\u001b[0m\u001b[1;33m:\u001b[0m\u001b[1;33m\u001b[0m\u001b[1;33m\u001b[0m\u001b[0m\n\u001b[0;32m     58\u001b[0m     \u001b[0mctx\u001b[0m\u001b[1;33m.\u001b[0m\u001b[0mensure_initialized\u001b[0m\u001b[1;33m(\u001b[0m\u001b[1;33m)\u001b[0m\u001b[1;33m\u001b[0m\u001b[1;33m\u001b[0m\u001b[0m\n\u001b[1;32m---> 59\u001b[1;33m     tensors = pywrap_tfe.TFE_Py_Execute(ctx._handle, device_name, op_name,\n\u001b[0m\u001b[0;32m     60\u001b[0m                                         inputs, attrs, num_outputs)\n\u001b[0;32m     61\u001b[0m   \u001b[1;32mexcept\u001b[0m \u001b[0mcore\u001b[0m\u001b[1;33m.\u001b[0m\u001b[0m_NotOkStatusException\u001b[0m \u001b[1;32mas\u001b[0m \u001b[0me\u001b[0m\u001b[1;33m:\u001b[0m\u001b[1;33m\u001b[0m\u001b[1;33m\u001b[0m\u001b[0m\n",
      "\u001b[1;31mKeyboardInterrupt\u001b[0m: "
     ]
    }
   ],
   "source": [
    "#Training model with adam optimizer and mean squared error loss function\n",
    "model.compile(loss='mean_squared_error',optimizer='adam')\n",
    "model.fit(X_train,y_train,validation_data=(X_test,y_test),epochs=10,batch_size=64)"
   ]
  },
  {
   "cell_type": "code",
   "execution_count": 109,
   "id": "18b1ba6a",
   "metadata": {},
   "outputs": [
    {
     "data": {
      "text/plain": [
       "[<matplotlib.lines.Line2D at 0x24f542f6610>]"
      ]
     },
     "execution_count": 109,
     "metadata": {},
     "output_type": "execute_result"
    },
    {
     "data": {
      "image/png": "[encoded data removed]",
      "text/plain": [
       "<Figure size 432x288 with 1 Axes>"
      ]
     },
     "metadata": {
      "needs_background": "light"
     },
     "output_type": "display_data"
    }
   ],
   "source": [
    "#PLotting loss, it shows that loss has decreased significantly and model trained well\n",
    "loss = model.history.history['loss']\n",
    "plt.plot(loss)"
   ]
  },
  {
   "cell_type": "code",
   "execution_count": 110,
   "id": "3e7f2fc8",
   "metadata": {},
   "outputs": [],
   "source": [
    "#Predicitng on train and test data\n",
    "train_predict = model.predict(X_train)\n",
    "test_predict = model.predict(X_test)"
   ]
  },
  {
   "cell_type": "code",
   "execution_count": 111,
   "id": "c2d6c2d5",
   "metadata": {},
   "outputs": [],
   "source": [
    "#Inverse transform to get actual value\n",
    "train_predict = normalizer.inverse_transform(train_predict)\n",
    "test_predict = normalizer.inverse_transform(test_predict)"
   ]
  },
  {
   "cell_type": "code",
   "execution_count": 112,
   "id": "9d0543ad",
   "metadata": {},
   "outputs": [
    {
     "data": {
      "text/plain": [
       "[<matplotlib.lines.Line2D at 0x24f4b690760>]"
      ]
     },
     "execution_count": 112,
     "metadata": {},
     "output_type": "execute_result"
    },
    {
     "data": {
      "image/png": "[encoded data removed]",
      "text/plain": [
       "<Figure size 432x288 with 1 Axes>"
      ]
     },
     "metadata": {
      "needs_background": "light"
     },
     "output_type": "display_data"
    }
   ],
   "source": [
    "#Comparing using visuals\n",
    "plt.plot(normalizer.inverse_transform(ds_scaled))\n",
    "plt.plot(train_predict)\n",
    "plt.plot(test_predict)"
   ]
  },
  {
   "cell_type": "code",
   "execution_count": 113,
   "id": "55300bae",
   "metadata": {},
   "outputs": [
    {
     "data": {
      "text/plain": [
       "numpy.ndarray"
      ]
     },
     "execution_count": 113,
     "metadata": {},
     "output_type": "execute_result"
    }
   ],
   "source": [
    "type(train_predict)"
   ]
  },
  {
   "cell_type": "code",
   "execution_count": 114,
   "id": "bf6d5613",
   "metadata": {},
   "outputs": [],
   "source": [
    "test = np.vstack((train_predict,test_predict))"
   ]
  },
  {
   "cell_type": "code",
   "execution_count": 115,
   "id": "41b272ff",
   "metadata": {},
   "outputs": [
    {
     "data": {
      "text/plain": [
       "[<matplotlib.lines.Line2D at 0x24f4b6fa4f0>]"
      ]
     },
     "execution_count": 115,
     "metadata": {},
     "output_type": "execute_result"
    },
    {
     "data": {
      "image/png": "[encoded data removed]",
      "text/plain": [
       "<Figure size 432x288 with 1 Axes>"
      ]
     },
     "metadata": {
      "needs_background": "light"
     },
     "output_type": "display_data"
    }
   ],
   "source": [
    "#Combining the predited data to create uniform data visualization\n",
    "plt.plot(normalizer.inverse_transform(ds_scaled))\n",
    "plt.plot(test)"
   ]
  },
  {
   "cell_type": "code",
   "execution_count": 118,
   "id": "16af9283",
   "metadata": {},
   "outputs": [
    {
     "data": {
      "text/plain": [
       "787"
      ]
     },
     "execution_count": 118,
     "metadata": {},
     "output_type": "execute_result"
    }
   ],
   "source": [
    "len(ds_test)"
   ]
  },
  {
   "cell_type": "code",
   "execution_count": 119,
   "id": "c13df7b8",
   "metadata": {},
   "outputs": [],
   "source": [
    "#Getting the last 500 minutes records\n",
    "fut_inp = ds_test[287:]"
   ]
  },
  {
   "cell_type": "code",
   "execution_count": 120,
   "id": "52b30579",
   "metadata": {},
   "outputs": [],
   "source": [
    "fut_inp = fut_inp.reshape(1,-1)"
   ]
  },
  {
   "cell_type": "code",
   "execution_count": 121,
   "id": "ac2686a6",
   "metadata": {},
   "outputs": [],
   "source": [
    "tmp_inp = list(fut_inp)"
   ]
  },
  {
   "cell_type": "code",
   "execution_count": 122,
   "id": "dad5024f",
   "metadata": {},
   "outputs": [
    {
     "data": {
      "text/plain": [
       "(1, 500)"
      ]
     },
     "execution_count": 122,
     "metadata": {},
     "output_type": "execute_result"
    }
   ],
   "source": [
    "fut_inp.shape"
   ]
  },
  {
   "cell_type": "code",
   "execution_count": 123,
   "id": "98042a30",
   "metadata": {},
   "outputs": [],
   "source": [
    "#Creating list of the last 100 data\n",
    "tmp_inp = tmp_inp[0].tolist()"
   ]
  },
  {
   "cell_type": "code",
   "execution_count": 126,
   "id": "44799d02",
   "metadata": {},
   "outputs": [
    {
     "name": "stdout",
     "output_type": "stream",
     "text": [
      "[[0.942920982837677], [0.9420394897460938], [0.9411691427230835], [0.9403097629547119], [0.9394611716270447], [0.9386236071586609], [0.9377970695495605], [0.9369810223579407], [0.9361756443977356], [0.9353809952735901], [0.9345965385437012], [0.9338226914405823], [0.9330589175224304], [0.9323049783706665], [0.9315611124038696], [0.9308272004127502], [0.9301030039787292], [0.9293882846832275], [0.9286829829216003], [0.9279869198799133], [0.9273000359535217], [0.9266220927238464], [0.9259530901908875], [0.9252928495407104], [0.9246411919593811], [0.9239980578422546], [0.9233631491661072], [0.922736644744873], [0.9221181273460388], [0.9215076565742493]]\n"
     ]
    }
   ],
   "source": [
    "#Predicting next 30 minutes price suing the current data\n",
    "#It will predict in sliding window manner (algorithm) with stride 1\n",
    "lst_output=[]\n",
    "n_steps=500\n",
    "i=0\n",
    "while(i<30):\n",
    "    \n",
    "    if(len(tmp_inp)>500):\n",
    "        fut_inp = np.array(tmp_inp[1:])\n",
    "        fut_inp=fut_inp.reshape(1,-1)\n",
    "        fut_inp = fut_inp.reshape((1, n_steps, 1))\n",
    "        yhat = model.predict(fut_inp, verbose=0)\n",
    "        tmp_inp.extend(yhat[0].tolist())\n",
    "        tmp_inp = tmp_inp[1:]\n",
    "        lst_output.extend(yhat.tolist())\n",
    "        i=i+1\n",
    "    else:\n",
    "        fut_inp = fut_inp.reshape((1, n_steps,1))\n",
    "        yhat = model.predict(fut_inp, verbose=0)\n",
    "        tmp_inp.extend(yhat[0].tolist())\n",
    "        lst_output.extend(yhat.tolist())\n",
    "        i=i+1\n",
    "    \n",
    "\n",
    "print(lst_output)"
   ]
  },
  {
   "cell_type": "code",
   "execution_count": 127,
   "id": "d49a83e5",
   "metadata": {},
   "outputs": [
    {
     "data": {
      "text/plain": [
       "2623"
      ]
     },
     "execution_count": 127,
     "metadata": {},
     "output_type": "execute_result"
    }
   ],
   "source": [
    "len(ds_scaled)"
   ]
  },
  {
   "cell_type": "code",
   "execution_count": 133,
   "id": "49450ea7",
   "metadata": {},
   "outputs": [],
   "source": [
    "#Creating a dummy plane to plot graph one after another\n",
    "plot_new=np.arange(1,101)\n",
    "plot_pred=np.arange(101,131)"
   ]
  },
  {
   "cell_type": "code",
   "execution_count": 134,
   "id": "29f84e31",
   "metadata": {},
   "outputs": [
    {
     "data": {
      "text/plain": [
       "[<matplotlib.lines.Line2D at 0x24f59ed1550>]"
      ]
     },
     "execution_count": 134,
     "metadata": {},
     "output_type": "execute_result"
    },
    {
     "data": {
      "image/png": "[encoded data removed]",
      "text/plain": [
       "<Figure size 432x288 with 1 Axes>"
      ]
     },
     "metadata": {
      "needs_background": "light"
     },
     "output_type": "display_data"
    }
   ],
   "source": [
    "plt.plot(plot_new, normalizer.inverse_transform(ds_scaled[2523:]))\n",
    "plt.plot(plot_pred, normalizer.inverse_transform(lst_output))"
   ]
  },
  {
   "cell_type": "code",
   "execution_count": 135,
   "id": "e41c9362",
   "metadata": {},
   "outputs": [],
   "source": [
    "ds_new = ds_scaled.tolist()"
   ]
  },
  {
   "cell_type": "code",
   "execution_count": 136,
   "id": "d6c8d3c1",
   "metadata": {},
   "outputs": [
    {
     "data": {
      "text/plain": [
       "2623"
      ]
     },
     "execution_count": 136,
     "metadata": {},
     "output_type": "execute_result"
    }
   ],
   "source": [
    "len(ds_new)"
   ]
  },
  {
   "cell_type": "code",
   "execution_count": 137,
   "id": "24e99607",
   "metadata": {},
   "outputs": [
    {
     "data": {
      "text/plain": [
       "[<matplotlib.lines.Line2D at 0x24f56157e80>]"
      ]
     },
     "execution_count": 137,
     "metadata": {},
     "output_type": "execute_result"
    },
    {
     "data": {
      "image/png": "[encoded data removed]",
      "text/plain": [
       "<Figure size 432x288 with 1 Axes>"
      ]
     },
     "metadata": {
      "needs_background": "light"
     },
     "output_type": "display_data"
    }
   ],
   "source": [
    "#Entends helps us to fill the missing value with approx value\n",
    "ds_new.extend(lst_output)\n",
    "plt.plot(ds_new[1200:])"
   ]
  },
  {
   "cell_type": "code",
   "execution_count": 138,
   "id": "7f04f058",
   "metadata": {},
   "outputs": [],
   "source": [
    "#Creating final data for plotting\n",
    "final_graph = normalizer.inverse_transform(ds_new).tolist()"
   ]
  },
  {
   "cell_type": "code",
   "execution_count": 140,
   "id": "2dfdef30",
   "metadata": {},
   "outputs": [
    {
     "data": {
      "text/plain": [
       "<matplotlib.legend.Legend at 0x24f59e2d760>"
      ]
     },
     "execution_count": 140,
     "metadata": {},
     "output_type": "execute_result"
    },
    {
     "data": {
      "image/png": "[encoded data removed]",
      "text/plain": [
       "<Figure size 432x288 with 1 Axes>"
      ]
     },
     "metadata": {
      "needs_background": "light"
     },
     "output_type": "display_data"
    }
   ],
   "source": [
    "#Plotting final results with predicted value after 30 Days\n",
    "plt.plot(final_graph,)\n",
    "plt.ylabel(\"Price\")\n",
    "plt.xlabel(\"Time\")\n",
    "plt.title(\"{0} prediction of next month open\".format(stock_symbol))\n",
    "plt.axhline(y=final_graph[len(final_graph)-1], color = 'red', linestyle = ':', label = 'NEXT 30minutes: {0}'.format(round(float(*final_graph[len(final_graph)-1]),2)))\n",
    "plt.legend()\n",
    "\n"
   ]
  }
 ],
 "metadata": {
  "kernelspec": {
   "display_name": "Python 3 (ipykernel)",
   "language": "python",
   "name": "python3"
  },
  "language_info": {
   "codemirror_mode": {
    "name": "ipython",
    "version": 3
   },
   "file_extension": ".py",
   "mimetype": "text/x-python",
   "name": "python",
   "nbconvert_exporter": "python",
   "pygments_lexer": "ipython3",
   "version": "3.8.7"
  }
 },
 "nbformat": 4,
 "nbformat_minor": 5
}
